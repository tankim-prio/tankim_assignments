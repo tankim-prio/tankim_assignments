{
  "cells": [
    {
      "cell_type": "markdown",
      "metadata": {
        "id": "view-in-github",
        "colab_type": "text"
      },
      "source": [
        "<a href=\"https://colab.research.google.com/github/tankim-prio/tankim_assignment_02/blob/main/tankim_assignment_02.ipynb\" target=\"_parent\"><img src=\"https://colab.research.google.com/assets/colab-badge.svg\" alt=\"Open In Colab\"/></a>"
      ]
    },
    {
      "cell_type": "markdown",
      "metadata": {
        "id": "obaGj9JUfaLP"
      },
      "source": [
        "#2.1 Create variables for your name, age, and favorite color, then print them with descriptive labels."
      ]
    },
    {
      "cell_type": "markdown",
      "metadata": {
        "id": "ThbQEfzWvIJF"
      },
      "source": []
    },
    {
      "cell_type": "code",
      "execution_count": null,
      "metadata": {
        "colab": {
          "base_uri": "https://localhost:8080/"
        },
        "id": "LHKmXZOdfjMk",
        "outputId": "f7f83b0f-e74e-45dc-8f29-1345b89003f5"
      },
      "outputs": [
        {
          "name": "stdout",
          "output_type": "stream",
          "text": [
            "Name: tankim\n",
            "Age: 27\n",
            "Favourite Color: black\n"
          ]
        }
      ],
      "source": [
        "\n",
        "my_name = \"tankim\"\n",
        "my_age = 26\n",
        "fav_color = \"black\"\n",
        "\n",
        "print(\"Name:\", my_name)\n",
        "print(\"Age:\", my_age)\n",
        "print(\"Favourite Color:\", fav_color)"
      ]
    },
    {
      "cell_type": "markdown",
      "metadata": {
        "id": "fpwjIqgrnVgp"
      },
      "source": [
        "#2.2 Create one variable of each type and use the type() function to verify its type."
      ]
    },
    {
      "cell_type": "code",
      "execution_count": null,
      "metadata": {
        "colab": {
          "base_uri": "https://localhost:8080/"
        },
        "id": "Kiuw3fpTq-Ds",
        "outputId": "253ba7dc-cba9-4d91-f904-64e231220f8d"
      },
      "outputs": [
        {
          "name": "stdout",
          "output_type": "stream",
          "text": [
            "department is <class 'str'>\n",
            "name is <class 'str'>\n",
            "age is <class 'int'>\n",
            "height is <class 'float'>\n",
            "student_status is <class 'bool'>\n",
            "hobbies is <class 'list'>\n",
            "degrees is <class 'tuple'>\n",
            "student_info is <class 'dict'>\n",
            "travel_place is <class 'set'>\n",
            "unique_num is <class 'set'>\n",
            "paper_publish is <class 'NoneType'>\n"
          ]
        }
      ],
      "source": [
        "\n",
        "department = 'CSE'\n",
        "name = \"Tankim\"\n",
        "age = 26\n",
        "height = 5.8\n",
        "student_status = True\n",
        "hobbies = [\"teaching\", \"learning\", \"coding\", \"gaming\"]\n",
        "degrees = (\"SSC\", \"HSC\", \"BSc\")\n",
        "student_info = {\"Name\": name, \"Height\": height}\n",
        "travel_place = {\"Cox's Bazar\",\"Tangail\", \"Bandarban\", \"Tangail\"}\n",
        "unique_num = {1, 32, 12, 31, 43}\n",
        "paper_publish = None\n",
        "\n",
        "print(\"department is\",type(department))\n",
        "print(\"name is\", type(name))\n",
        "print(\"age is\", type(age))\n",
        "print(\"height is\", type(height))\n",
        "print(\"student_status is\", type(student_status))\n",
        "print(\"hobbies is\", type(hobbies))\n",
        "print(\"degrees is\", type(degrees))\n",
        "print(\"student_info is\", type(student_info))\n",
        "print(\"travel_place is\", type(travel_place))\n",
        "print(\"unique_num is\", type(unique_num))\n",
        "print(\"paper_publish is\", type(paper_publish))"
      ]
    },
    {
      "cell_type": "markdown",
      "metadata": {
        "id": "nSprO1QXvKZA"
      },
      "source": [
        "# 2.3 Calculate the area and perimeter of a rectangle with length 7 and width 5."
      ]
    },
    {
      "cell_type": "code",
      "execution_count": null,
      "metadata": {
        "colab": {
          "base_uri": "https://localhost:8080/"
        },
        "id": "Z0iEkrjUvRT1",
        "outputId": "2a6dcd6b-e45c-40ed-d37d-6c0e7c5bf715"
      },
      "outputs": [
        {
          "name": "stdout",
          "output_type": "stream",
          "text": [
            "Area of rectangle is: 35\n",
            "Perimeter of rectangle is: 24\n"
          ]
        }
      ],
      "source": [
        "length = 7\n",
        "width = 5\n",
        "\n",
        "area = length * width\n",
        "p_meter = 2*(length + width)\n",
        "\n",
        "print(\"Area of rectangle is:\", area)\n",
        "print(\"Perimeter of rectangle is:\", p_meter)"
      ]
    },
    {
      "cell_type": "markdown",
      "metadata": {
        "id": "TEduAfVixuLU"
      },
      "source": [
        "# 2.4 Create a list of 5 Bangladeshi foods, then access the first and last elements."
      ]
    },
    {
      "cell_type": "code",
      "execution_count": null,
      "metadata": {
        "colab": {
          "base_uri": "https://localhost:8080/"
        },
        "id": "HGV0RuxZxwxQ",
        "outputId": "e734969c-f35c-489f-fd86-0cfd3be9bc4f"
      },
      "outputs": [
        {
          "name": "stdout",
          "output_type": "stream",
          "text": [
            "List of Bangladeshi foods: ['Panta Bhat', 'Kacchi Biryani', 'Shorshe Ilish', 'Fuchka', 'Bhuna Khichuri']\n",
            "First food: Panta Bhat\n",
            "Last food: Bhuna Khichuri\n"
          ]
        }
      ],
      "source": [
        "foods = [\"Panta Bhat\", \"Kacchi Biryani\", \"Shorshe Ilish\", \"Fuchka\", \"Bhuna Khichuri\"]\n",
        "print(\"List of Bangladeshi foods:\", foods)\n",
        "print(\"First food:\", foods[0])\n",
        "print(\"Last food:\", foods[4])"
      ]
    },
    {
      "cell_type": "markdown",
      "metadata": {
        "id": "YzorztTn0_4t"
      },
      "source": [
        "# 2.5 Create a list of 5 numbers, add a new number, remove one, and then sort the list."
      ]
    },
    {
      "cell_type": "code",
      "execution_count": null,
      "metadata": {
        "colab": {
          "base_uri": "https://localhost:8080/"
        },
        "id": "Mb8T6cHE1DF2",
        "outputId": "d4a597c3-7d5a-4192-98b0-d751315d181a"
      },
      "outputs": [
        {
          "name": "stdout",
          "output_type": "stream",
          "text": [
            "List of numbers: [24, 32, 67, 43, 50]\n",
            "Add new number: [24, 32, 67, 43, 50, 71]\n",
            "Remove one number: [24, 32, 43, 50, 71]\n",
            "Sort list: [24, 32, 43, 50, 71]\n"
          ]
        }
      ],
      "source": [
        "numbers = [24, 32, 67, 43, 50]\n",
        "\n",
        "print(\"List of numbers:\", numbers)\n",
        "numbers.append(71)\n",
        "print(\"Add new number:\", numbers)\n",
        "\n",
        "numbers.remove(67)\n",
        "print(\"Remove one number:\", numbers)\n",
        "\n",
        "numbers.sort()\n",
        "print(\"Sort list:\", numbers)"
      ]
    },
    {
      "cell_type": "markdown",
      "metadata": {
        "id": "86TZWtBN81w4"
      },
      "source": [
        "# 2.6 Create a dictionary about yourself with at least 4 key-value pairs"
      ]
    },
    {
      "cell_type": "code",
      "execution_count": null,
      "metadata": {
        "colab": {
          "base_uri": "https://localhost:8080/"
        },
        "id": "Rq1vtDzp85CE",
        "outputId": "d2a537ec-598b-4ada-a733-a52c9c6f79c6"
      },
      "outputs": [
        {
          "name": "stdout",
          "output_type": "stream",
          "text": [
            "My name is: Tankim\n",
            "I am: 26 years old\n",
            "My hobbies are: ['Reading', 'Coding', 'Traveling']\n",
            "['Black', 'Green'] are my favourite colors\n"
          ]
        }
      ],
      "source": [
        "about_me = {\n",
        "\n",
        "\"name\": \"Tankim\",\n",
        "\"age\": 26,\n",
        "\"occupation\": \"Software Developer\",\n",
        "\"programming_skills\":[\"Java\", \"Javascript\", \"Dart\"],\n",
        "\"hobbies\": [\"Reading\", \"Coding\", \"Traveling\"],\n",
        "\"fav_color\": [\"Black\", \"Green\"]\n",
        "\n",
        "}\n",
        "\n",
        "print(\"My name is:\", about_me[\"name\"])\n",
        "print(\"I am:\", about_me[\"age\"], \"years old\")\n",
        "print(\"My hobbies are:\", about_me[\"hobbies\"])\n",
        "print(about_me[\"fav_color\"], \"are my favourite colors\")"
      ]
    },
    {
      "cell_type": "markdown",
      "metadata": {
        "id": "cxmNLdQYMDy9"
      },
      "source": [
        "# 2.7 Create a tuple with the latitude and longitude of a famous place in Bangladesh."
      ]
    },
    {
      "cell_type": "code",
      "execution_count": null,
      "metadata": {
        "colab": {
          "base_uri": "https://localhost:8080/"
        },
        "id": "_el_OHIvMGzH",
        "outputId": "3457c1de-92dd-4d1e-80fc-10b0180ca663"
      },
      "outputs": [
        {
          "name": "stdout",
          "output_type": "stream",
          "text": [
            "Sundarbans Coordinates: (21.9497, 89.1833)\n",
            "Type: <class 'tuple'>\n",
            "Latitide: 21.9497\n",
            "Longitude: 89.1833\n"
          ]
        }
      ],
      "source": [
        "sundarbans_coordinates = (21.9497, 89.1833)\n",
        "\n",
        "print(\"Sundarbans Coordinates:\", sundarbans_coordinates)\n",
        "print(\"Type:\", type(sundarbans_coordinates))\n",
        "print(\"Latitide:\", sundarbans_coordinates[0])\n",
        "print(\"Longitude:\", sundarbans_coordinates[1])"
      ]
    },
    {
      "cell_type": "markdown",
      "metadata": {
        "id": "exnt72wiOR8v"
      },
      "source": [
        "# 2.8 Write a program that checks if a number is positive, negative, or zero"
      ]
    },
    {
      "cell_type": "code",
      "execution_count": null,
      "metadata": {
        "colab": {
          "background_save": true,
          "base_uri": "https://localhost:8080/"
        },
        "id": "4s3yxBFMOXPm",
        "outputId": "395ff061-9397-47c6-ff15-d4d95b716ae3"
      },
      "outputs": [
        {
          "name": "stdout",
          "output_type": "stream",
          "text": [
            "Your given number is: Positive\n"
          ]
        }
      ],
      "source": [
        "num = 0\n",
        "\n",
        "if num >= 0:\n",
        "   apply = \"Positive\"\n",
        "elif num <= 0:\n",
        "   apply = \"Negative\"\n",
        "else:\n",
        "   apply = \"Zero\"\n",
        "\n",
        "print(\"Your given number is:\", {apply})"
      ]
    },
    {
      "cell_type": "markdown",
      "source": [
        "# 2.10 Write a program that checks eligibility for a discount (student AND under 25, OR senior over 60)."
      ],
      "metadata": {
        "id": "yGG_7wkEzQSO"
      }
    },
    {
      "cell_type": "code",
      "source": [
        "age = int(input(\"Enter your age: \"))\n",
        "print(\"Select your status:\")\n",
        "print(\"1. Student\")\n",
        "print(\"2. Senior\")\n",
        "print(\"3. Neither\")\n",
        "choice = input(\"Enter choice (1-3): \")\n",
        "\n",
        "if (choice == \"1\" and age < 25) or (choice == \"2\" and age >= 60):\n",
        "    print(\"You will get discount!\")\n",
        "else:\n",
        "    print(\"You won't get discount.\")"
      ],
      "metadata": {
        "colab": {
          "base_uri": "https://localhost:8080/"
        },
        "id": "7BholUAhzdul",
        "outputId": "5379b26c-8cd7-4bd5-d88a-46572126178e"
      },
      "execution_count": null,
      "outputs": [
        {
          "output_type": "stream",
          "name": "stdout",
          "text": [
            "Enter your age: 76\n",
            "Select your status:\n",
            "1. Student\n",
            "2. Senior\n",
            "3. Neither\n",
            "Enter choice (1-3): 2\n",
            "You will get discount!\n"
          ]
        }
      ]
    },
    {
      "cell_type": "markdown",
      "source": [
        "# 2.11 Write a program that prints the first 10 even numbers using a for loop or while loop"
      ],
      "metadata": {
        "id": "s-SmlC38-psU"
      }
    },
    {
      "cell_type": "code",
      "source": [
        "print(\"\\n Here is the fisrt 10 even numbers:\")\n",
        "\n",
        "number = 0\n",
        "even_count = 0\n",
        "\n",
        "while True:\n",
        "    number += 1\n",
        "    if number % 2 == 0:\n",
        "        print(number)\n",
        "        even_count += 1\n",
        "    if even_count == 10:\n",
        "        break"
      ],
      "metadata": {
        "colab": {
          "base_uri": "https://localhost:8080/"
        },
        "id": "wk5E4cXk-yzw",
        "outputId": "57c4b30f-b545-411b-b254-f5cd827fee69"
      },
      "execution_count": null,
      "outputs": [
        {
          "output_type": "stream",
          "name": "stdout",
          "text": [
            "\n",
            " Here is the fisrt 10 even numbers:\n",
            "2\n",
            "4\n",
            "6\n",
            "8\n",
            "10\n",
            "12\n",
            "14\n",
            "16\n",
            "18\n",
            "20\n"
          ]
        }
      ]
    },
    {
      "cell_type": "markdown",
      "source": [
        "2.12 Write a program that prints a simple number pyramid pattern using nested loops"
      ],
      "metadata": {
        "id": "KAwQO9bK_8Xx"
      }
    },
    {
      "cell_type": "code",
      "source": [
        "\n",
        "rows = 5\n",
        "\n",
        "for i in range(1, rows + 1):\n",
        "\n",
        "    spaces = \" \" * (rows - i)\n",
        "\n",
        "    numbers = \"\".join(f\"{j} \" for j in range(1, i + 1))\n",
        "\n",
        "    print(f\"{spaces}{numbers}\")"
      ],
      "metadata": {
        "colab": {
          "base_uri": "https://localhost:8080/"
        },
        "id": "zSZCXz2iAp9l",
        "outputId": "7cef016e-0d7d-4a18-9fc7-d89c40cf09c0"
      },
      "execution_count": null,
      "outputs": [
        {
          "output_type": "stream",
          "name": "stdout",
          "text": [
            "    1 \n",
            "   1 2 \n",
            "  1 2 3 \n",
            " 1 2 3 4 \n",
            "1 2 3 4 5 \n"
          ]
        }
      ]
    },
    {
      "cell_type": "markdown",
      "source": [
        "# 2.13 Create a function that converts temperature from Celsius to Fahrenheit using the formula: F = (C × 9/5) + 32"
      ],
      "metadata": {
        "id": "8pWQ2kFYKoDm"
      }
    },
    {
      "cell_type": "code",
      "source": [
        "\n",
        "def celsius_to_fahrenheit(celsius):\n",
        "    fahrenheit = (celsius * 9/5) + 32\n",
        "    return fahrenheit\n",
        "\n",
        "temp_c = 25\n",
        "temp_f = celsius_to_fahrenheit(temp_c)\n",
        "print(\"Celsius:\",f\"{temp_c}°C is equal to Fahrenheit: {temp_f}°F\")  # 25°C is equal to 77.0°F"
      ],
      "metadata": {
        "colab": {
          "base_uri": "https://localhost:8080/"
        },
        "id": "5oBVn_NJKwbs",
        "outputId": "6cb81323-e4da-4a96-f758-600cf31a3862"
      },
      "execution_count": null,
      "outputs": [
        {
          "output_type": "stream",
          "name": "stdout",
          "text": [
            "Celsius: 25°C is equal to Fahrenheit: 77.0°F\n"
          ]
        }
      ]
    },
    {
      "cell_type": "markdown",
      "source": [
        "# 2.14 Create a function with default parameters that calculates the area of a rectangle."
      ],
      "metadata": {
        "id": "1S4Q1kgPNa6j"
      }
    },
    {
      "cell_type": "code",
      "source": [
        "\n",
        "def rectangle_area():\n",
        "    length = int(input(\"Enter length: \"))\n",
        "    width = int(input(\"Enter width: \"))\n",
        "    area = length * width\n",
        "    print(f\"The area of the rectangle is {area}\")\n",
        "\n",
        "rectangle_area()"
      ],
      "metadata": {
        "id": "AOatmPSDNfPG",
        "colab": {
          "base_uri": "https://localhost:8080/"
        },
        "outputId": "99442a82-5057-40ef-e3ec-b3e80504b569"
      },
      "execution_count": 43,
      "outputs": [
        {
          "output_type": "stream",
          "name": "stdout",
          "text": [
            "Enter length: 5\n",
            "Enter width: 6\n",
            "The area of the rectangle is 30\n"
          ]
        }
      ]
    }
  ],
  "metadata": {
    "colab": {
      "provenance": [],
      "authorship_tag": "ABX9TyNSiC+1jtDynzHpA+SpDPdK",
      "include_colab_link": true
    },
    "kernelspec": {
      "display_name": "Python 3",
      "name": "python3"
    },
    "language_info": {
      "name": "python"
    }
  },
  "nbformat": 4,
  "nbformat_minor": 0
}